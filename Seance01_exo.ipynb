{
  "nbformat": 4,
  "nbformat_minor": 0,
  "metadata": {
    "language_info": {
      "codemirror_mode": {
        "name": "ipython",
        "version": 3
      },
      "file_extension": ".py",
      "mimetype": "text/x-python",
      "name": "python",
      "nbconvert_exporter": "python",
      "pygments_lexer": "ipython3",
      "version": "3.8.6-final"
    },
    "orig_nbformat": 2,
    "kernelspec": {
      "name": "python3",
      "display_name": "Python 3"
    },
    "colab": {
      "name": "Seance01_exo.ipynb",
      "provenance": [],
      "include_colab_link": true
    }
  },
  "cells": [
    {
      "cell_type": "markdown",
      "metadata": {
        "id": "view-in-github",
        "colab_type": "text"
      },
      "source": [
        "<a href=\"https://colab.research.google.com/github/bhic1973/py3_form/blob/main/Seance01_exo.ipynb\" target=\"_parent\"><img src=\"https://colab.research.google.com/assets/colab-badge.svg\" alt=\"Open In Colab\"/></a>"
      ]
    },
    {
      "cell_type": "markdown",
      "metadata": {
        "id": "RkTpHsArCby1"
      },
      "source": [
        "# Notebook partagee des exercices de la premiere seance\n",
        "\n",
        "## Poster vos reponses ici en référençant la cellule du code par votre nom, prenom et numero d'exercice"
      ]
    },
    {
      "cell_type": "code",
      "metadata": {
        "id": "zdK-7A0bDLsU",
        "cellView": "form"
      },
      "source": [
        "#@title Reponse aux exercices\n",
        "Nom = \"\" #@param {type:\"string\"}\n",
        "Prenom = \"\" #@param {type:\"string\"}"
      ],
      "execution_count": 1,
      "outputs": []
    },
    {
      "cell_type": "markdown",
      "metadata": {
        "id": "fcph_7HAIgW6"
      },
      "source": [
        "# Enonce de l'exercice 01\n"
      ]
    },
    {
      "cell_type": "markdown",
      "metadata": {
        "id": "lixDru4vIx7A"
      },
      "source": [
        "### Ecrire un programme pyhton qui demande une chaîne de caractères ***CH*** puis compte les occurrences des lettres de l'alphabet sans distinction entre les majuscules et les minuscules. \n",
        "\n",
        "\n",
        "---\n",
        "\n",
        "\n",
        "\n",
        "> Idée a explorer : construire une chaine de caractères qui contient les caractères son repétition. (une solution a revoir apèrs avec tableau (liste) des ABC de dimension 26 pour mémoriser le résultat. Afficher seulement le nombre des lettres qui apparaissent au mois une fois dans le texte.\n",
        "\n",
        "**Exemple:**\n",
        "le programme prévoit la démarche suivante: \n",
        "\n",
        "Entrez une ligne de texte: hassan\n",
        "La chaîne \"hassan\" contient :\n",
        ">- 2 fois la lettre 'A' \n",
        ">- 1 fois la lettre 'H' \n",
        ">- 1 fois la lettre 'N' \n",
        ">- 2 fois la lettre 'S' \n",
        "\n",
        "Challenge : Proposer une optimisation pour votre code\n"
      ]
    },
    {
      "cell_type": "markdown",
      "metadata": {
        "id": "4ajAybVAIg1t"
      },
      "source": [
        "# Reponse de l'exercice"
      ]
    },
    {
      "cell_type": "code",
      "metadata": {
        "id": "6V4QfkIWJYUq"
      },
      "source": [
        "#@title Coding cell\n",
        "\n",
        "# Begin coding\n",
        "\n",
        "print(\"Hello World i use python 3\")\n",
        "\n",
        "\n",
        "\n",
        "\n",
        "\n",
        "\n",
        "\n",
        "\n",
        "\n",
        "\n",
        "\n",
        "\n",
        "# End coding"
      ],
      "execution_count": null,
      "outputs": []
    },
    {
      "cell_type": "markdown",
      "metadata": {
        "id": "sadW041uisxC"
      },
      "source": [
        "# Enonce de l'exercice 02\n",
        "\n"
      ]
    },
    {
      "cell_type": "markdown",
      "metadata": {
        "id": "QUW3Csi9nEfY"
      },
      "source": [
        "Ecrire un algorithme puis un programme qui permet d’afficher la solution de l’équation $a x^2+b x + c =0$. Les valeurs de a, b et c sont données par l’utilisateur.\n"
      ]
    },
    {
      "cell_type": "code",
      "metadata": {
        "id": "hYoYJFY0niqD"
      },
      "source": [
        "#@title Coding cell\n",
        "\n",
        "# Begin coding\n",
        "\n",
        "\n",
        "\n",
        "\n",
        "\n",
        "\n",
        "\n",
        "\n",
        "\n",
        "\n",
        "\n",
        "\n",
        "\n",
        "\n",
        "# End coding"
      ],
      "execution_count": null,
      "outputs": []
    },
    {
      "cell_type": "markdown",
      "metadata": {
        "id": "L48I7qS2Runn"
      },
      "source": [
        "# Enonce de l'exercice 03\n",
        "\n"
      ]
    },
    {
      "cell_type": "markdown",
      "metadata": {
        "id": "y8YnkoeERn4A"
      },
      "source": [
        "Le prix de photocopies dans une reprographie varie selon le nombre demandé :\n",
        "\n",
        "0,5 DH la copie pour les 10 premières copies.\n",
        "0,4DH la copie pour les 10 copies suivantes.\n",
        "0,3DH pour la tranche de copies supérieures à 20.\n",
        "Ecrire un programme qui demande à l’utilisateur le nombre de photocopies effectuées, qui calcule et affiche le prix à payer."
      ]
    },
    {
      "cell_type": "code",
      "metadata": {
        "id": "XU3jwJ0mR-rW"
      },
      "source": [
        "#@title Coding cell\n",
        "\n",
        "# Begin coding\n",
        "\n",
        "\n",
        "\n",
        "\n",
        "\n",
        "\n",
        "\n",
        "\n",
        "\n",
        "\n",
        "\n",
        "\n",
        "\n",
        "\n",
        "# End coding"
      ],
      "execution_count": null,
      "outputs": []
    },
    {
      "cell_type": "markdown",
      "metadata": {
        "id": "L2HYnFyGSphA"
      },
      "source": [
        "# Enonce de l'exercice 04\n",
        "\n"
      ]
    },
    {
      "cell_type": "markdown",
      "metadata": {
        "id": "v_jI5KYwSXcC"
      },
      "source": [
        "Dans cet exercice, on représente une date par une chanines de carctères. par exemple la chaîne '28/11/2020' représente la date du 28 novembre 2020. donner un programme qui affiche la date de le lendeamin:\n",
        "\n",
        "Travail a faire:\n",
        "\n",
        "demander une date (chaine de caractères)\n",
        "determiner le jour, mois et année\n",
        "calculer la date de demain\n",
        "afficher la date\n",
        "Par exemple:\n",
        "\n",
        "si un utilisateur entre la date suivante: '28/11/2020' le programme affichera le message suivant: la date de demain sera '29/11/2020'"
      ]
    },
    {
      "cell_type": "code",
      "metadata": {
        "id": "TC3vMk5YSy6R"
      },
      "source": [
        "#@title Coding cell\n",
        "\n",
        "# Begin coding\n",
        "\n",
        "\n",
        "\n",
        "\n",
        "\n",
        "\n",
        "\n",
        "\n",
        "\n",
        "\n",
        "\n",
        "\n",
        "\n",
        "\n",
        "# End coding"
      ],
      "execution_count": null,
      "outputs": []
    }
  ]
}