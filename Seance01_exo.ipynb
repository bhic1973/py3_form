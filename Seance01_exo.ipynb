{
  "nbformat": 4,
  "nbformat_minor": 0,
  "metadata": {
    "language_info": {
      "codemirror_mode": {
        "name": "ipython",
        "version": 3
      },
      "file_extension": ".py",
      "mimetype": "text/x-python",
      "name": "python",
      "nbconvert_exporter": "python",
      "pygments_lexer": "ipython3",
      "version": "3.8.6-final"
    },
    "orig_nbformat": 2,
    "kernelspec": {
      "name": "python3",
      "display_name": "Python 3"
    },
    "colab": {
      "name": "Seance01_exo.ipynb",
      "provenance": [],
      "include_colab_link": true
    }
  },
  "cells": [
    {
      "cell_type": "markdown",
      "metadata": {
        "id": "view-in-github",
        "colab_type": "text"
      },
      "source": [
        "<a href=\"https://colab.research.google.com/github/bhic1973/py3_form/blob/main/Seance01_exo.ipynb\" target=\"_parent\"><img src=\"https://colab.research.google.com/assets/colab-badge.svg\" alt=\"Open In Colab\"/></a>"
      ]
    },
    {
      "cell_type": "markdown",
      "metadata": {
        "id": "RkTpHsArCby1"
      },
      "source": [
        "# Notebook partagee des exercices de la premiere seance\n",
        "\n",
        "## Poster vos reponses ici en référençant la cellule du code par votre nom, prenom et numero d'exercice"
      ]
    },
    {
      "cell_type": "markdown",
      "metadata": {
        "id": "fcph_7HAIgW6"
      },
      "source": [
        "# Enonce de l'exercice 01\n"
      ]
    },
    {
      "cell_type": "markdown",
      "metadata": {
        "id": "lixDru4vIx7A"
      },
      "source": [
        "### Ecrire un programme pyhton qui demande une chaîne de caractères ***CH*** puis compte les occurrences des lettres de l'alphabet sans distinction entre les majuscules et les minuscules. \n",
        "\n",
        "\n",
        "---\n",
        "\n",
        "\n",
        "\n",
        "> Idée a explorer : construire une chaine de caractères qui contient les caractères son repétition. (une solution a revoir apèrs avec tableau (liste) des ABC de dimension 26 pour mémoriser le résultat. Afficher seulement le nombre des lettres qui apparaissent au mois une fois dans le texte.\n",
        "\n",
        "**Exemple:**\n",
        "le programme prévoit la démarche suivante: \n",
        "\n",
        "Entrez une ligne de texte: hassan\n",
        "La chaîne \"hassan\" contient :\n",
        ">- 2 fois la lettre 'A' \n",
        ">- 1 fois la lettre 'H' \n",
        ">- 1 fois la lettre 'N' \n",
        ">- 2 fois la lettre 'S' \n",
        "\n",
        "Challenge : Proposer une optimisation pour votre code\n"
      ]
    },
    {
      "cell_type": "markdown",
      "metadata": {
        "id": "4ajAybVAIg1t"
      },
      "source": [
        "# Reponse de l'exercice"
      ]
    },
    {
      "cell_type": "code",
      "metadata": {
        "cellView": "form",
        "id": "zdK-7A0bDLsU"
      },
      "source": [
        "#@title Reponse a l'exercice 01\n",
        "Nom = \"\" #@param {type:\"string\"}\n",
        "Prenom = \"\" #@param {type:\"string\"}\n",
        "N_exo = \"01\" #@param [\"01\", \"02\", \"03\", \"04\", \"05\", \"06\", \"07\", \"08\", \"09\", \"10\"]\n",
        "#@markdown > Poster Votre réponse dans la zone dedie au code :"
      ],
      "execution_count": 11,
      "outputs": []
    },
    {
      "cell_type": "code",
      "metadata": {
        "id": "6V4QfkIWJYUq"
      },
      "source": [
        "#@title Coding cell\n",
        "\n",
        "# Begin coding\n",
        "\n",
        "print(\"Hello World i use python 3\")\n",
        "\n",
        "\n",
        "\n",
        "\n",
        "\n",
        "\n",
        "\n",
        "\n",
        "\n",
        "\n",
        "\n",
        "\n",
        "# End coding"
      ],
      "execution_count": null,
      "outputs": []
    }
  ]
}