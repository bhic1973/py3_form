{
  "nbformat": 4,
  "nbformat_minor": 0,
  "metadata": {
    "language_info": {
      "codemirror_mode": {
        "name": "ipython",
        "version": 3
      },
      "file_extension": ".py",
      "mimetype": "text/x-python",
      "name": "python",
      "nbconvert_exporter": "python",
      "pygments_lexer": "ipython3",
      "version": "3.8.6-final"
    },
    "orig_nbformat": 2,
    "kernelspec": {
      "name": "python3",
      "display_name": "Python 3"
    },
    "colab": {
      "name": "Seance01_exo.ipynb",
      "provenance": []
    }
  },
  "cells": [
    {
      "cell_type": "markdown",
      "metadata": {
        "id": "RkTpHsArCby1"
      },
      "source": [
        "# Notebook partagee des exercices de la premiere seance\n",
        "\n",
        "## Poster vos reponses ici en référençant la cellule du code par votre nom, prenom et numero d'exercice"
      ]
    },
    {
      "cell_type": "markdown",
      "metadata": {
        "id": "fcph_7HAIgW6"
      },
      "source": [
        "# Enonce de l'exercice"
      ]
    },
    {
      "cell_type": "markdown",
      "metadata": {
        "id": "lixDru4vIx7A"
      },
      "source": [
        ""
      ]
    },
    {
      "cell_type": "markdown",
      "metadata": {
        "id": "4ajAybVAIg1t"
      },
      "source": [
        "# Reponse de l'exercice"
      ]
    },
    {
      "cell_type": "code",
      "metadata": {
        "cellView": "form",
        "id": "zdK-7A0bDLsU"
      },
      "source": [
        "#@title Reponse a l'exercice 01\n",
        "Nom = \"\" #@param {type:\"string\"}\n",
        "Prenom = \"\" #@param {type:\"string\"}\n",
        "N_exo = \"01\" #@param [\"01\", \"02\", \"03\", \"04\", \"05\", \"06\", \"07\", \"08\", \"09\", \"10\"]\n",
        "#@markdown > Poster Votre réponse dans la zone dedie au code :"
      ],
      "execution_count": 11,
      "outputs": []
    },
    {
      "cell_type": "code",
      "metadata": {
        "id": "6V4QfkIWJYUq"
      },
      "source": [
        "#@title Coding cell\n",
        "\n",
        "# Begin coding\n",
        "\n",
        "print(\"Hello World i use python 3\")\n",
        "\n",
        "\n",
        "\n",
        "\n",
        "\n",
        "\n",
        "\n",
        "\n",
        "\n",
        "\n",
        "\n",
        "\n",
        "# End coding"
      ],
      "execution_count": null,
      "outputs": []
    }
  ]
}