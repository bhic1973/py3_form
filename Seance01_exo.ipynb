{
  "nbformat": 4,
  "nbformat_minor": 0,
  "metadata": {
    "language_info": {
      "codemirror_mode": {
        "name": "ipython",
        "version": 3
      },
      "file_extension": ".py",
      "mimetype": "text/x-python",
      "name": "python",
      "nbconvert_exporter": "python",
      "pygments_lexer": "ipython3",
      "version": "3.8.6-final"
    },
    "orig_nbformat": 2,
    "kernelspec": {
      "name": "python3",
      "display_name": "Python 3"
    },
    "colab": {
      "name": "Seance01_exo.ipynb",
      "provenance": [],
      "include_colab_link": true
    }
  },
  "cells": [
    {
      "cell_type": "markdown",
      "metadata": {
        "id": "view-in-github",
        "colab_type": "text"
      },
      "source": [
        "<a href=\"https://colab.research.google.com/github/bhic1973/py3_form/blob/main/Seance01_exo.ipynb\" target=\"_parent\"><img src=\"https://colab.research.google.com/assets/colab-badge.svg\" alt=\"Open In Colab\"/></a>"
      ]
    },
    {
      "cell_type": "markdown",
      "metadata": {
        "id": "RkTpHsArCby1"
      },
      "source": [
        "# Notebook partagee des exercices de la premiere seance\n",
        "\n",
        "## Poster vos reponses ici en referencant la cellule du code par votre nom et prenom et numero d'exercice\n",
        "\n",
        "+ Exemple:\n",
        "\n",
        "  * Nom : \n",
        "  * Prenom :\n",
        "  * Exo N 01:"
      ]
    },
    {
      "cell_type": "code",
      "metadata": {
        "id": "zdK-7A0bDLsU"
      },
      "source": [
        "#@title Reponse a l'exercice 01\n",
        "# Cellule contenant le code\n",
        "\n",
        "\n",
        "\n",
        "\n",
        "\n",
        "\n",
        "\n",
        "\n",
        "\n",
        "\n",
        "\n",
        "\n",
        "\n",
        "\n",
        "# Fin du code"
      ],
      "execution_count": 1,
      "outputs": []
    }
  ]
}