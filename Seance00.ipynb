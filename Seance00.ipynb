{
 "cells": [
  {
   "cell_type": "markdown",
   "metadata": {},
   "source": [
    "---\n",
    "# Seance 0 : From zero to  \"Hello World!\"\n",
    "---\n",
<<<<<<< HEAD
    "\n",
    "  ![](pics/bg1.png)"
=======
    "![](pics/bg1.png)"
>>>>>>> 00c3ffaba785fa815c21ba8d7245ab1f6260efc8
   ]
  },
  {
   "cell_type": "markdown",
   "metadata": {},
   "source": [
    "---\n",
    "## Seance outlines ##\n",
    "---\n",
    "\n",
    " ### I. Vue globale de la formation ###\n",
    "\n",
    " ### II. Vue globale du language de programation Python ###\n",
    "\n",
    " ### III. Installation et Configuration de l'environement de programmation ###\n",
    "\n",
    " ### IV. Premier programme Python ###"
   ]
  },
  {
   "cell_type": "markdown",
   "metadata": {},
   "source": [
    "---\n",
    "### I. Vue globale de la formation: ###\n",
    "---\n",
    "\n",
    "#### **Outlines of the incomming seance** ####\n",
    "\n",
    "  1. **From zero to hello world**\n",
    "   \n",
    "   - Aperçu général du cours.\n",
    "\n",
    "   - Vue globale de Python.\n",
    "\n",
    "   - Environnement de développement (Installation et Configuration):\n",
    "    \n",
    "    1. Installation Miniconda\n",
    "    \n",
    "    2. Installation éditeur\n",
    "    \n",
    "    3. Premier programme Python\n",
    "  \n",
    "  2. **Bases de Python 1** \n",
    "\n",
    "   - Nombres et variables\n",
    "   \n",
    "   - Opérateurs arithmétiques et logiques.\n",
    "   \n",
    "   - Chaines de caractères\n",
    "   \n",
    "   - Listes et Tuples.\n",
    "   \n",
    "   - Structure de contrôle et boucles.\n",
    "\n",
    "  3. **Base de Python 2**\n",
    "   \n",
    "   - Itérateurs\n",
    "\n",
    "   - Fonctions\n",
    "\n",
    "   - Entrées / sorties \n",
    "\n",
    "  4. **Bases de Python 3** \n",
    "   \n",
    "   - Introduction a la programmation oriente objet dans Python\n",
    "   \n",
    "   - Dictionnaires, ensemble et Compréhension.\n",
    "   \n",
    "   - Structure de donnee avancee : File et pile\n",
    "\n",
    "5. **Bases de Python 4**\n",
    "  \n",
    "  - Gestion d'exception.\n",
    "  \n",
    "  - Interface OS (`os` and `pathlib`)\n",
    "  \n",
    "  - Notion de modules et paquetage.\n",
    "\n",
    "6. **Python numérique** `NumPy`\n",
    "\n",
    "   - Méthode de base pour la manipulation des tableaux.\n",
    "\n",
    "   - Lire et écrire un tableau dans un fichier\n",
    "\n",
    "   - Méthodes statistiques\n",
    "\n",
    "   - Polynômes\n",
    "\n",
    "   - Algèbre linéaire\n",
    "\n",
    "   - Échantillonnage aléatoire\n",
    "\n",
    "   - Analyse de Fourier\n",
    "\n",
    "7. **Plots :** `Matplotlib`, `seaborn`, `plotly`\n",
    "\n",
    "   - Réaliser des graphes de différents types\n",
    "\n",
    "   - Interactivité avec ``ipywidgets``\n",
    "\n",
    "   - Personnalisation et raffinement des graphes.\n",
    "\n",
    "   - Annotation des graphes\n",
    "\n",
    "   - Graphes 3D\n",
    "\n",
    "8. **Calcul scientifique:** `SciPy`.\n",
    "   \n",
    "   - Fonctions speciales\n",
    "   \n",
    "   - Integration des Equations differentielles ordinaires.\n",
    "   \n",
    "   - Interpolation\n",
    "   \n",
    "   - Ajustement de courbes (Data fitting) et recherche numériques des racines de fonctions."
   ]
  },
  {
   "cell_type": "markdown",
   "metadata": {},
   "source": [
    "#### **Deroulement des séances** ####\n",
    "\n",
    "1. Chaque seance se deroulera sur une duree de 2 heures et contiendra des aspects theoriques, des demonstrations pratiques et des exercices a realiser en ligne.\n",
    " \n",
    "2. Des devoisrs et challenges seront attribues a l'ensemble des etudiants comme des homeworks obligatoires ou optionnels a la fin de chaque seance.\n",
    "\n",
    "3. Les formateurs seront disponibles sur la platforme discord au cour de la semaine selon un calendrier qu'on va afficher plus tard pour animer les discussions autour des differents aspects des seances de formation. \n",
    "\n",
    "4. a la fin de la formation, les participants sont amenees a realiser des projets de developpement a base de Python pour valider leurs acquis.\n",
    "\n",
    "5. Un document sera delivre a la fin de la formation a chaque etudiant attestant qu'il a beneficier d'une formation de base a python. \n"
   ]
  },
  {
   "cell_type": "markdown",
   "metadata": {},
   "source": [
    "---\n",
    "### II Vue globale du langage Python ###\n",
    "---"
   ]
  },
  {
   "cell_type": "markdown",
   "metadata": {},
   "source": [
    "1. **A short reminder : Whats a computer system :**\n",
    "\n",
<<<<<<< HEAD
    "   ![](pics/cap02.png)\n"
=======
    "![](pics/cap02.png)\n"
>>>>>>> 00c3ffaba785fa815c21ba8d7245ab1f6260efc8
   ]
  },
  {
   "cell_type": "markdown",
   "metadata": {},
   "source": [
    "2. **Overview of programming language classes:**\n",
    "   \n",
    "   + Machine language\n",
    "   \n",
    "     - Example : add two numbers \n",
    "       ```\n",
    "       0011\n",
    "       1000\n",
    "       1010\n",
    "       ```\n",
    "   \n",
    "   + Assembly programming language (low-level)\n",
    "     \n",
    "     - Example:\n",
    "       ```as\n",
    "       MOV X, 10\n",
    "       MOV Y, 20\n",
    "       ADD X, Y\n",
    "       ```\n",
    "   + High-level language:\n",
    "     \n",
    "     A high-level language operate usely in three steps :\n",
    "     - Step 1: compiling or interpreting ths source code to generate an object code.\n",
    "     - Step 2: linking the object code with other object codes from different libraries needed by teh execution process.\n",
    "     - step 3: loading and executing the result of step 2\n",
    "     \n",
    "     - Example:\n",
    "       ```C\n",
    "       #include<stdio.h>\n",
    "          \n",
    "       int main()\n",
    "       {\n",
    "           printf(\"Hello world!\\n\");\n",
    "       }\n",
    "        ```"
   ]
  },
  {
   "cell_type": "markdown",
   "metadata": {},
   "source": [
    "3. **Why choosing Python ?**\n",
    "\n",
    "    1. Readability\n",
    "    \n",
    "    2. Portability\n",
    "    \n",
    "    3. Vast support of libraries ([pypi](https://pypi.org).)\n",
    "    \n",
    "    4. Software integration\n",
    "    \n",
    "    5. Developer productivity"
   ]
  },
  {
   "cell_type": "markdown",
   "metadata": {},
   "source": [
    " 4. **A brief history of Python:**\n",
    "   \n",
    "   Python was conceptualized in the late 1980s. It's implementation began in December 1989 by Guido van Rossum at the natioanal research institute for mathematics and computer science in the Netherlands. The idea behind was to create a successor to the ABC programming language used in a distributed operating system (Amoeba).\n",
    "   The first goal of Guido was to develop a scripting language that possess the capabilities of the ABC language without its problems. He start by writing a simple virtual machine, a simple parser and a simple runtime. He maded his own version of the various ABC parts that he consider beneficial to his project. He also created a very basic syntax like using indentation for block grouping code instead of curly braces or begin-end blocks. He developed some powerful data types like hash table (dictionary), lists, strings, numbers so the first major version of python was released. The second major version was released in October 2000 and the third one in December 2008."
   ]
  },
  {
   "cell_type": "markdown",
   "metadata": {},
   "source": [
    "4. **What is Python ?**\n",
    "\n",
    "   According to [Python official website](www.python.org), Python is a:\n",
    "   \n",
    "   + General purpose high-level programming language. \n",
    "\n",
    "   + Interpreted language, which means python code is processed at runtime by the interpreter.\n",
    "\n",
    "   + Interactive Language, which is a powerful properties for whos they wants to try novel ideas and algorithms"
   ]
  },
  {
   "cell_type": "markdown",
   "metadata": {},
   "source": [
    "5. **Python Features:**\n",
    "\n",
    "   Python possess a lot of interesting features like :\n",
    "\n",
    "   - It's a sample and easy to learn.\n",
    "\n",
    "   - It's a free and open source.\n",
    "\n",
    "   - It's a highly portable.\n",
    "\n",
    "   - It's an embeddedable language.\n",
    "\n",
    "   - It's an extendable language [pypi](https://pypi.org).\n",
    "\n",
    "   - It provides an interface to all the major databases.\n",
    "\n",
    "   - It support the automatic garbage collection.\n",
    "\n",
    "   - It support also the functional and structured programming methods as well as OOP.\n",
    "   - It's a dynamically typed programming language.\n"
   ]
  },
  {
   "cell_type": "markdown",
   "metadata": {},
   "source": [
    "6. **How Python works:**\n",
    "    \n",
    "    - Parser\n",
    "     \n",
    "     ```python\n",
    "     for i in range(2.5):\n",
    "        print(\"....\\n\")\n",
    "        \n",
    "    ```\n",
    "        + Reserved words:\n",
    "        \n",
    "          | False  | await    | else    | import   | pass   |\n",
<<<<<<< HEAD
    "          |: ---  :|: ---    :|: ---   :|: ---    :|: ---  :|\n",
=======
    "          |  :-:   | :-:     | :-:      | :-:      |  :-:   |\n",
>>>>>>> 00c3ffaba785fa815c21ba8d7245ab1f6260efc8
    "          | None   | break    | except  |  in      | raise  |\n",
    "          | True   | class    | finally |  is      | return |\n",
    "          | and    | continue |   for   | lambda   | try    |\n",
    "          | as     |  def     |  from   | nonlocal | while  |\n",
    "          | assert |  del     |  global |   not    | with   |\n",
    "          | async  |  elif    |  if     |   or     | yield  |\n",
    "        \n",
    "        + Reserved identifient :\n",
    "          \n",
<<<<<<< HEAD
    "          | $ _* $  | $ __*__ $ | $ __* $ |\n",
    "          | --- |  ---  | --- |\n",
    "\n",
    "    \n",
    "   \n",
    "    - Byte code translator\n",
    "    \n",
    "        + Example of Bytecode:\n",
    "          01 00000000: 550d 0d0a 0000 0000 21f7 b75f ae00 0000  U.......!.._....        \n",
    "          02 00000010: e300 0000 0000 0000 0000 0000 0000 0000  ................    \n",
    "          03 00000020: 0004 0000 0040 0000 0073 2800 0000 6400  .....@...s(...d.    \n",
    "          04 00000030: 5a00 6401 4400 5d10 5a01 6500 6501 a002  Z.d.D.].Z.e.e...    \n",
    "          05 00000040: a100 1700 5a00 7108 6503 6500 9b00 8301  ....Z.q.e.e.....\n",
    "          06 00000050: 0100 6402 5300 2903 da00 7a38 696e 6974  ..d.S.)...z8init\n",
    "          07 00000060: 6961 7469 6f6e 2061 206c 6120 7072 6f67  iation a la prog\n",
    "          08 00000070: 7261 6d6d 6174 696f 6e20 7363 6965 6e74  rammation scient\n",
    "          09 00000080: 6966 6971 7565 2061 7665 6320 7079 7468  ifique avec pyth\n",
    "          10 00000090: 6f6e 2033 4e29 045a 0b75 705f 7365 6e74  on 3N).Z.up_sent\n",
    "          11 000000a0: 656e 6365 da01 63da 0575 7070 6572 da05  ence..c..upper..\n",
    "          12 000000b0: 7072 696e 74a9 0072 0500 0000 7205 0000  print..r....r...\n",
    "          13 000000c0: 00fa 1763 6f64 6573 2f73 6561 6e63 6530  ...codes/seance0\n",
    "          14 000000d0: 302f 7465 7374 312e 7079 da08 3c6d 6f64  0/test1.py..<mod\n",
    "          15 000000e0: 756c 653e 0300 0000 7306 0000 0004 0108  ule>....s.......\n",
    "          16 000000f0: 010e 010d 0a                             ..... \n",
    "    \n",
    "   - Python virtual machine :\n",
    "     A big loop that take instructions in order from the bytecode file and execute them on the target machine."
   ]
  },
  {
   "cell_type": "markdown",
   "metadata": {},
   "source": [
    "---\n",
    "### Developement environement : Installation and configuration\n",
    "---"
   ]
  },
  {
   "cell_type": "markdown",
   "metadata": {},
   "source": [
    "1. **Miniconda installation:**\n",
    "    + Windows users :\n",
    "     \n",
    "        - Installing Miniconda\n",
    "     \n",
    "            ```cmd\n",
    "            start /wait \"\" Miniconda3-latest-Windows-x86_64.exe /AddToPath=1 /InstallationType=JustMe /RegisterPython=0 /S /D=%UserProfile%\\Miniconda3\n",
    "           ```\n",
    "      \n",
    "        - Updating conda\n",
    "            \n",
    "            ```cmd\n",
    "            conda update -n base -c default conda\n",
    "            ```\n",
    "            \n",
    "    + Unix-like users:\n",
    "     \n",
    "         - Installing Miniconda\n",
    "            \n",
    "            ```bash\n",
    "            sh Miniconda3-latest-Linux-x86_64.sh -p $HOME/Miniconda3\n",
    "            ```\n",
    "         \n",
    "         - Setup environement variable\n",
    "         \n",
    "           ```bash\n",
    "           $HOME/Miniconda3/bin/conda init\n",
    "           ```\n",
    "           \n",
    "         - Update conda\n",
    "         \n",
    "           ```bash\n",
    "           conda update -n base -c default conda\n",
    "           ```\n",
    "     "
   ]
  },
  {
   "cell_type": "markdown",
   "metadata": {},
   "source": [
    "2. **Some usefull conda commands:**"
=======
    "          - $\\text{_text}$\n",
    "          \n",
    "          - $\\text{__text}$\n",
    "          \n",
    "          - $\\text{__text__}$\n",
    "\n",
    "\n",
    "    - Byte code translator\n",
    "      \n",
    "      + Code source\n",
    "```python\n",
    "inp = \"Initiation à la programmation scientifique avec python 3\"\n",
    "out = \"\"\n",
    "for c in inp:\n",
    "    out = out + c.upper()   \n",
    "print(f\"{out}\")\n",
    "```\n",
    "    \n",
    "    \n",
    "      + Bytecode file content:\n",
    "        01 00000000: 550d 0d0a 0000 0000 21f7 b75f ae00 0000  U.......!.._....        \n",
    "        02 00000010: e300 0000 0000 0000 0000 0000 0000 0000  ................    \n",
    "        03 00000020: 0004 0000 0040 0000 0073 2800 0000 6400  .....@...s(...d.    \n",
    "        04 00000030: 5a00 6401 4400 5d10 5a01 6500 6501 a002  Z.d.D.].Z.e.e...    \n",
    "        05 00000040: a100 1700 5a00 7108 6503 6500 9b00 8301  ....Z.q.e.e.....\n",
    "        06 00000050: 0100 6402 5300 2903 da00 7a38 696e 6974  ..d.S.)...z8init\n",
    "        07 00000060: 6961 7469 6f6e 2061 206c 6120 7072 6f67  iation a la prog\n",
    "        08 00000070: 7261 6d6d 6174 696f 6e20 7363 6965 6e74  rammation scient\n",
    "        09 00000080: 6966 6971 7565 2061 7665 6320 7079 7468  ifique avec pyth\n",
    "        10 00000090: 6f6e 2033 4e29 045a 0b75 705f 7365 6e74  on 3N).Z.up_sent\n",
    "        11 000000a0: 656e 6365 da01 63da 0575 7070 6572 da05  ence..c..upper..\n",
    "        12 000000b0: 7072 696e 74a9 0072 0500 0000 7205 0000  print..r....r...\n",
    "        13 000000c0: 00fa 1763 6f64 6573 2f73 6561 6e63 6530  ...codes/seance0\n",
    "        14 000000d0: 302f 7465 7374 312e 7079 da08 3c6d 6f64  0/test1.py..<mod\n",
    "        15 000000e0: 756c 653e 0300 0000 7306 0000 0004 0108  ule>....s.......\n",
    "        16 000000f0: 010e 010d 0a                             ..... \n",
    "    \n",
    "   - Python virtual machine :\n",
    "     A big loop that take instructions in order from the bytecode file and execute them on the target machine."
   ]
  },
  {
   "cell_type": "markdown",
   "metadata": {},
   "source": [
    "---\n",
    "### Developement environement : Installation and configuration\n",
    "---"
   ]
  },
  {
   "cell_type": "markdown",
   "metadata": {},
   "source": [
    "1. **Miniconda installation:**\n",
    "    + Windows users :\n",
    "     \n",
    "        - Installing Miniconda\n",
    "     \n",
    "            ```cmd\n",
    "            start /wait \"\" Miniconda3-latest-Windows-x86_64.exe /AddToPath=1 /InstallationType=JustMe /RegisterPython=0 /S /D=%UserProfile%\\Miniconda3\n",
    "           ```\n",
    "      \n",
    "        - Updating conda\n",
    "            \n",
    "            ```cmd\n",
    "            conda update -n base -c default conda\n",
    "            ```\n",
    "            \n",
    "    + Unix-like users:\n",
    "     \n",
    "         - Installing Miniconda\n",
    "            \n",
    "            ```bash\n",
    "            sh Miniconda3-latest-Linux-x86_64.sh -p $HOME/Miniconda3\n",
    "            ```\n",
    "         \n",
    "         - Setup environement variable\n",
    "         \n",
    "           ```bash\n",
    "           $HOME/Miniconda3/bin/conda init\n",
    "           ```\n",
    "           \n",
    "         - Update conda\n",
    "         \n",
    "           ```bash\n",
    "           conda update -n base -c default conda\n",
    "           ```\n",
    "     "
   ]
  },
  {
   "cell_type": "markdown",
   "metadata": {},
   "source": [
    "2. **Some usefull conda commands:**"
   ]
  },
  {
   "cell_type": "code",
   "execution_count": 1,
   "metadata": {
    "jupyter": {
     "source_hidden": true
    }
   },
   "outputs": [
    {
     "name": "stdout",
     "output_type": "stream",
     "text": [
      "# conda environments:\n",
      "#\n",
      "base                     /home/belkebir/miniconda3\n",
      "py3_form              *  /home/belkebir/miniconda3/envs/py3_form\n",
      "\n"
     ]
    }
   ],
   "source": [
    "# Listing conda environements\n",
    "!conda info --envs"
   ]
  },
  {
   "cell_type": "markdown",
   "metadata": {},
   "source": [
    "+ [ ] PATH of the base environement\n",
    "\n",
    "```bash  \n",
    "conda info --base\n",
    "``` "
   ]
  },
  {
   "cell_type": "code",
   "execution_count": 3,
   "metadata": {
    "jupyter": {
     "source_hidden": true
    }
   },
   "outputs": [
    {
     "name": "stdout",
     "output_type": "stream",
     "text": [
      "/home/belkebir/miniconda\n"
     ]
    }
   ],
   "source": [
    "# PATH of the base environement\n",
    "!conda info --base"
   ]
  },
  {
   "cell_type": "markdown",
   "metadata": {},
   "source": [
    "+ [ ] OS env variable information\n",
    "\n",
    "```bash\n",
    "conda info -s\n",
    "```"
>>>>>>> 00c3ffaba785fa815c21ba8d7245ab1f6260efc8
   ]
  },
  {
   "cell_type": "code",
<<<<<<< HEAD
   "execution_count": 1,
   "metadata": {},
=======
   "execution_count": 5,
   "metadata": {
    "jupyter": {
     "source_hidden": true
    }
   },
>>>>>>> 00c3ffaba785fa815c21ba8d7245ab1f6260efc8
   "outputs": [
    {
     "name": "stdout",
     "output_type": "stream",
     "text": [
<<<<<<< HEAD
      "# conda environments:\n",
      "#\n",
      "                         /home/belkebir/.julia/conda/3\n",
      "base                     /home/belkebir/miniconda\n",
      "elearn                   /home/belkebir/miniconda/envs/elearn\n",
      "gradio                   /home/belkebir/miniconda/envs/gradio\n",
      "mldl                     /home/belkebir/miniconda/envs/mldl\n",
      "mypypy                   /home/belkebir/miniconda/envs/mypypy\n",
      "py3_formation         *  /home/belkebir/miniconda/envs/py3_formation\n",
=======
      "sys.version: 3.8.3 (default, May 19 2020, 18:47:26) \n",
      "...\n",
      "sys.prefix: /home/belkebir/miniconda\n",
      "sys.executable: /home/belkebir/miniconda/bin/python\n",
      "conda location: /home/belkebir/miniconda/lib/python3.8/site-packages/conda\n",
      "conda-build: None\n",
      "conda-env: /home/belkebir/miniconda/bin/conda-env\n",
      "user site dirs: \n",
      "\n",
      "CIO_TEST: <not set>\n",
      "CONDA_DEFAULT_ENV: py3_formation\n",
      "CONDA_EXE: /home/belkebir/miniconda/bin/conda\n",
      "CONDA_PREFIX: /home/belkebir/miniconda/envs/py3_formation\n",
      "CONDA_PROMPT_MODIFIER: (py3_formation) \n",
      "CONDA_PYTHON_EXE: /home/belkebir/miniconda/bin/python\n",
      "CONDA_ROOT: /home/belkebir/miniconda\n",
      "CONDA_SHLVL: 1\n",
      "CURL_CA_BUNDLE: <not set>\n",
      "DEFAULTS_PATH: /usr/share/gconf/i3-with-shmlog.default.path\n",
      "MANDATORY_PATH: /usr/share/gconf/i3-with-shmlog.mandatory.path\n",
      "PATH: /home/belkebir/miniconda/envs/py3_formation/bin:/home/belkebir/miniconda/condabin:/home/belkebir/bin:/usr/local/sbin:/usr/local/bin:/usr/sbin:/usr/bin:/sbin:/bin:/usr/games:/usr/local/games:/snap/bin\n",
      "REQUESTS_CA_BUNDLE: <not set>\n",
      "SSL_CERT_FILE: <not set>\n",
      "TERMINATOR_DBUS_PATH: /net/tenshu/Terminator2\n",
      "TMUX_PLUGIN_MANAGER_PATH: /home/belkebir/.tmux/plugins/\n",
      "WINDOWPATH: 2\n",
>>>>>>> 00c3ffaba785fa815c21ba8d7245ab1f6260efc8
      "\n"
     ]
    }
   ],
   "source": [
<<<<<<< HEAD
    "# Listing conda environements\n",
    "!conda info --envs"
   ]
  },
  {
   "cell_type": "code",
   "execution_count": 3,
   "metadata": {},
   "outputs": [
    {
     "name": "stdout",
     "output_type": "stream",
     "text": [
      "/home/belkebir/miniconda\n"
     ]
    }
   ],
   "source": [
    "# PATH of the base environement\n",
    "!conda info --base"
=======
    "# OS env variable information\n",
    "!conda info -s"
   ]
  },
  {
   "cell_type": "markdown",
   "metadata": {},
   "source": [
    "+ [ ] Showing all information about conda and the hosting system \n",
    "\n",
    "```bash\n",
    "conda info -a\n",
    "```"
>>>>>>> 00c3ffaba785fa815c21ba8d7245ab1f6260efc8
   ]
  },
  {
   "cell_type": "code",
<<<<<<< HEAD
   "execution_count": 5,
   "metadata": {},
=======
   "execution_count": 8,
   "metadata": {
    "jupyter": {
     "source_hidden": true
    }
   },
>>>>>>> 00c3ffaba785fa815c21ba8d7245ab1f6260efc8
   "outputs": [
    {
     "name": "stdout",
     "output_type": "stream",
     "text": [
<<<<<<< HEAD
=======
      "\n",
      "     active environment : py3_formation\n",
      "    active env location : /home/belkebir/miniconda/envs/py3_formation\n",
      "            shell level : 1\n",
      "       user config file : /home/belkebir/.condarc\n",
      " populated config files : /home/belkebir/.condarc\n",
      "          conda version : 4.9.2\n",
      "    conda-build version : not installed\n",
      "         python version : 3.8.3.final.0\n",
      "       virtual packages : __glibc=2.31=0\n",
      "                          __unix=0=0\n",
      "                          __archspec=1=x86_64\n",
      "       base environment : /home/belkebir/miniconda  (writable)\n",
      "           channel URLs : https://conda.anaconda.org/conda-forge/linux-64\n",
      "                          https://conda.anaconda.org/conda-forge/noarch\n",
      "                          https://repo.anaconda.com/pkgs/main/linux-64\n",
      "                          https://repo.anaconda.com/pkgs/main/noarch\n",
      "                          https://repo.anaconda.com/pkgs/r/linux-64\n",
      "                          https://repo.anaconda.com/pkgs/r/noarch\n",
      "          package cache : /home/belkebir/miniconda/pkgs\n",
      "                          /home/belkebir/.conda/pkgs\n",
      "       envs directories : /home/belkebir/miniconda/envs\n",
      "                          /home/belkebir/.conda/envs\n",
      "               platform : linux-64\n",
      "             user-agent : conda/4.9.2 requests/2.25.0 CPython/3.8.3 Linux/5.4.0-52-generic ubuntu/20.04.1 glibc/2.31\n",
      "                UID:GID : 1000:1000\n",
      "             netrc file : None\n",
      "           offline mode : False\n",
      "\n",
      "# conda environments:\n",
      "#\n",
      "                         /home/belkebir/.julia/conda/3\n",
      "base                     /home/belkebir/miniconda\n",
      "elearn                   /home/belkebir/miniconda/envs/elearn\n",
      "gradio                   /home/belkebir/miniconda/envs/gradio\n",
      "mldl                     /home/belkebir/miniconda/envs/mldl\n",
      "mypypy                   /home/belkebir/miniconda/envs/mypypy\n",
      "py3_formation         *  /home/belkebir/miniconda/envs/py3_formation\n",
      "\n",
>>>>>>> 00c3ffaba785fa815c21ba8d7245ab1f6260efc8
      "sys.version: 3.8.3 (default, May 19 2020, 18:47:26) \n",
      "...\n",
      "sys.prefix: /home/belkebir/miniconda\n",
      "sys.executable: /home/belkebir/miniconda/bin/python\n",
      "conda location: /home/belkebir/miniconda/lib/python3.8/site-packages/conda\n",
      "conda-build: None\n",
      "conda-env: /home/belkebir/miniconda/bin/conda-env\n",
      "user site dirs: \n",
      "\n",
      "CIO_TEST: <not set>\n",
      "CONDA_DEFAULT_ENV: py3_formation\n",
      "CONDA_EXE: /home/belkebir/miniconda/bin/conda\n",
      "CONDA_PREFIX: /home/belkebir/miniconda/envs/py3_formation\n",
      "CONDA_PROMPT_MODIFIER: (py3_formation) \n",
      "CONDA_PYTHON_EXE: /home/belkebir/miniconda/bin/python\n",
      "CONDA_ROOT: /home/belkebir/miniconda\n",
      "CONDA_SHLVL: 1\n",
      "CURL_CA_BUNDLE: <not set>\n",
      "DEFAULTS_PATH: /usr/share/gconf/i3-with-shmlog.default.path\n",
      "MANDATORY_PATH: /usr/share/gconf/i3-with-shmlog.mandatory.path\n",
      "PATH: /home/belkebir/miniconda/envs/py3_formation/bin:/home/belkebir/miniconda/condabin:/home/belkebir/bin:/usr/local/sbin:/usr/local/bin:/usr/sbin:/usr/bin:/sbin:/bin:/usr/games:/usr/local/games:/snap/bin\n",
      "REQUESTS_CA_BUNDLE: <not set>\n",
      "SSL_CERT_FILE: <not set>\n",
      "TERMINATOR_DBUS_PATH: /net/tenshu/Terminator2\n",
      "TMUX_PLUGIN_MANAGER_PATH: /home/belkebir/.tmux/plugins/\n",
      "WINDOWPATH: 2\n",
      "\n"
     ]
    }
   ],
   "source": [
<<<<<<< HEAD
    "# OS env variable information\n",
    "!conda info -s"
   ]
  },
  {
   "cell_type": "code",
   "execution_count": 8,
   "metadata": {},
   "outputs": [
    {
     "name": "stdout",
     "output_type": "stream",
     "text": [
      "\n",
      "     active environment : py3_formation\n",
      "    active env location : /home/belkebir/miniconda/envs/py3_formation\n",
      "            shell level : 1\n",
      "       user config file : /home/belkebir/.condarc\n",
      " populated config files : /home/belkebir/.condarc\n",
      "          conda version : 4.9.2\n",
      "    conda-build version : not installed\n",
      "         python version : 3.8.3.final.0\n",
      "       virtual packages : __glibc=2.31=0\n",
      "                          __unix=0=0\n",
      "                          __archspec=1=x86_64\n",
      "       base environment : /home/belkebir/miniconda  (writable)\n",
      "           channel URLs : https://conda.anaconda.org/conda-forge/linux-64\n",
      "                          https://conda.anaconda.org/conda-forge/noarch\n",
      "                          https://repo.anaconda.com/pkgs/main/linux-64\n",
      "                          https://repo.anaconda.com/pkgs/main/noarch\n",
      "                          https://repo.anaconda.com/pkgs/r/linux-64\n",
      "                          https://repo.anaconda.com/pkgs/r/noarch\n",
      "          package cache : /home/belkebir/miniconda/pkgs\n",
      "                          /home/belkebir/.conda/pkgs\n",
      "       envs directories : /home/belkebir/miniconda/envs\n",
      "                          /home/belkebir/.conda/envs\n",
      "               platform : linux-64\n",
      "             user-agent : conda/4.9.2 requests/2.25.0 CPython/3.8.3 Linux/5.4.0-52-generic ubuntu/20.04.1 glibc/2.31\n",
      "                UID:GID : 1000:1000\n",
      "             netrc file : None\n",
      "           offline mode : False\n",
      "\n",
      "# conda environments:\n",
      "#\n",
      "                         /home/belkebir/.julia/conda/3\n",
      "base                     /home/belkebir/miniconda\n",
      "elearn                   /home/belkebir/miniconda/envs/elearn\n",
      "gradio                   /home/belkebir/miniconda/envs/gradio\n",
      "mldl                     /home/belkebir/miniconda/envs/mldl\n",
      "mypypy                   /home/belkebir/miniconda/envs/mypypy\n",
      "py3_formation         *  /home/belkebir/miniconda/envs/py3_formation\n",
      "\n",
      "sys.version: 3.8.3 (default, May 19 2020, 18:47:26) \n",
      "...\n",
      "sys.prefix: /home/belkebir/miniconda\n",
      "sys.executable: /home/belkebir/miniconda/bin/python\n",
      "conda location: /home/belkebir/miniconda/lib/python3.8/site-packages/conda\n",
      "conda-build: None\n",
      "conda-env: /home/belkebir/miniconda/bin/conda-env\n",
      "user site dirs: \n",
      "\n",
      "CIO_TEST: <not set>\n",
      "CONDA_DEFAULT_ENV: py3_formation\n",
      "CONDA_EXE: /home/belkebir/miniconda/bin/conda\n",
      "CONDA_PREFIX: /home/belkebir/miniconda/envs/py3_formation\n",
      "CONDA_PROMPT_MODIFIER: (py3_formation) \n",
      "CONDA_PYTHON_EXE: /home/belkebir/miniconda/bin/python\n",
      "CONDA_ROOT: /home/belkebir/miniconda\n",
      "CONDA_SHLVL: 1\n",
      "CURL_CA_BUNDLE: <not set>\n",
      "DEFAULTS_PATH: /usr/share/gconf/i3-with-shmlog.default.path\n",
      "MANDATORY_PATH: /usr/share/gconf/i3-with-shmlog.mandatory.path\n",
      "PATH: /home/belkebir/miniconda/envs/py3_formation/bin:/home/belkebir/miniconda/condabin:/home/belkebir/bin:/usr/local/sbin:/usr/local/bin:/usr/sbin:/usr/bin:/sbin:/bin:/usr/games:/usr/local/games:/snap/bin\n",
      "REQUESTS_CA_BUNDLE: <not set>\n",
      "SSL_CERT_FILE: <not set>\n",
      "TERMINATOR_DBUS_PATH: /net/tenshu/Terminator2\n",
      "TMUX_PLUGIN_MANAGER_PATH: /home/belkebir/.tmux/plugins/\n",
      "WINDOWPATH: 2\n",
      "\n"
     ]
    }
   ],
   "source": [
=======
>>>>>>> 00c3ffaba785fa815c21ba8d7245ab1f6260efc8
    "# Showing all information about conda and the hosting system \n",
    "!conda info -a"
   ]
  },
  {
   "cell_type": "markdown",
   "metadata": {},
   "source": [
    "3. **Create an environment with yaml files**\n",
    "   \n",
    "   + Edit the yaml file with your favorite text editor and write in it :\n",
    "     \n",
<<<<<<< HEAD
    "     ```ascii\n",
=======
    "     ```raw\n",
>>>>>>> 00c3ffaba785fa815c21ba8d7245ab1f6260efc8
    "      name: py3Learn        \n",
    "      channels: \n",
    "          - default\n",
    "          - conda-forge\n",
    "      dependencies:\n",
    "          - pip\n",
    "          - python = 3.8\n",
    "          - matplotlib\n",
    "          - ipython\n",
    "          - numpy\n",
    "          - pylint\n",
    "          - scipy\n",
    "          - seaborn\n",
    "          - spyder\n",
    "          - sympy\n",
    "          - plotly\n",
    "          - dash\n",
    "       ```\n",
    "\n",
    "   + Execute in your shell this command:\n",
    "    \n",
    "      ```bash\n",
    "      conda env create -f py3learn.yml\n",
    "      ```\n",
    "   \n",
    "   + Testing the environment\n",
    "   \n",
    "      ```bash\n",
    "      conda activate py3Learn\n",
    "      ```"
   ]
  },
  {
<<<<<<< HEAD
   "cell_type": "markdown",
   "metadata": {},
   "source": [
    "4. **Testing the integrated IDE spyder**\n",
    "   \n",
    "   + In your Favorite shell execute this command:\n",
    "   \n",
    "     ```bash\n",
    "     spyder \n",
    "     ```"
   ]
  },
  {
   "cell_type": "markdown",
   "metadata": {},
   "source": [
=======
   "cell_type": "markdown",
   "metadata": {},
   "source": [
    "4. **Testing the integrated IDE spyder**\n",
    "   \n",
    "   + In your Favorite shell execute this command:\n",
    "   \n",
    "     ```bash\n",
    "     spyder \n",
    "     ```"
   ]
  },
  {
   "cell_type": "markdown",
   "metadata": {},
   "source": [
>>>>>>> 00c3ffaba785fa815c21ba8d7245ab1f6260efc8
    " 5. **Installing, configuring and testing:** `vscode`"
   ]
  },
  {
   "cell_type": "markdown",
   "metadata": {},
   "source": [
    "6. **Example of how python is powerful and useful:**"
   ]
  },
  {
   "cell_type": "code",
   "execution_count": 1,
   "metadata": {
    "jupyter": {
     "source_hidden": true
    }
   },
   "outputs": [
    {
     "data": {
      "application/vnd.jupyter.widget-view+json": {
<<<<<<< HEAD
       "model_id": "8950cc90f8c046d7843f068bc32d5118",
=======
       "model_id": "c360af89cc5340869006f06cdecce9a6",
>>>>>>> 00c3ffaba785fa815c21ba8d7245ab1f6260efc8
       "version_major": 2,
       "version_minor": 0
      },
      "text/plain": [
       "AppLayout(children=(FloatSlider(value=1.0, description='Factor:', layout=Layout(grid_area='footer', margin='0p…"
      ]
     },
     "metadata": {},
     "output_type": "display_data"
    }
   ],
   "source": [
    "# When using the `widget` backend from ipympl,\n",
    "# fig.canvas is a proper Jupyter interactive widget, which can be embedded in\n",
    "# an ipywidgets layout. See https://ipywidgets.readthedocs.io/en/stable/examples/Layout%20Templates.html\n",
    "\n",
    "# One can bound figure attributes to other widget values.\n",
    "%matplotlib widget\n",
    "\n",
    "from matplotlib import pyplot as plt\n",
    "from ipywidgets import AppLayout, FloatSlider\n",
    "import numpy as np\n",
    "import pandas as pd\n",
    "\n",
    "\n",
    "plt.style.use(\"ggplot\")\n",
    "\n",
    "plt.ioff()\n",
    "\n",
    "slider = FloatSlider(\n",
    "    orientation='horizontal',\n",
    "    description='Factor:',\n",
    "    value=1.0,\n",
    "    min=0.02,\n",
    "    max=2.0\n",
    ")\n",
    "\n",
    "slider.layout.margin = '0px 30% 0px 30%'\n",
    "slider.layout.width = '40%'\n",
    "\n",
    "fig = plt.figure()\n",
    "fig.canvas.header_visible = False\n",
    "fig.canvas.layout.min_height = '400px'\n",
    "plt.title('Plotting: y=sin({} * x)'.format(slider.value))\n",
    "\n",
    "x = np.linspace(0, 20, 500)\n",
    "\n",
    "lines = plt.plot(x, np.sin(slider.value * x))\n",
    "\n",
    "def update_lines(change):\n",
    "    plt.title('Plotting: y=sin({} * x)'.format(change.new))\n",
    "    lines[0].set_data(x, np.sin(change.new * x))\n",
    "    fig.canvas.draw()\n",
    "    fig.canvas.flush_events()\n",
    "\n",
    "slider.observe(update_lines, names='value')\n",
    "\n",
    "AppLayout(\n",
    "    center=fig.canvas,\n",
    "    footer=slider,\n",
    "    pane_heights=[0, 6, 1]\n",
    ")"
   ]
<<<<<<< HEAD
  }
 ],
 "metadata": {
  "kernelspec": {
   "display_name": "Python 3",
   "language": "python",
   "name": "python3"
  },
  "language_info": {
   "codemirror_mode": {
    "name": "ipython",
    "version": 3
   },
   "file_extension": ".py",
   "mimetype": "text/x-python",
   "name": "python",
   "nbconvert_exporter": "python",
   "pygments_lexer": "ipython3",
   "version": "3.8.6"
  }
=======
  },
  {
   "cell_type": "code",
   "execution_count": null,
   "metadata": {},
   "outputs": [],
   "source": []
  }
 ],
 "metadata": {
  "kernelspec": {
   "display_name": "Python 3",
   "language": "python",
   "name": "python3"
  },
  "language_info": {
   "codemirror_mode": {
    "name": "ipython",
    "version": 3
   },
   "file_extension": ".py",
   "mimetype": "text/x-python",
   "name": "python",
   "nbconvert_exporter": "python",
   "pygments_lexer": "ipython3",
   "version": "3.8.6"
  }
>>>>>>> 00c3ffaba785fa815c21ba8d7245ab1f6260efc8
 },
 "nbformat": 4,
 "nbformat_minor": 4
}
